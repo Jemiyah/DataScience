{
 "cells": [
  {
   "cell_type": "markdown",
   "id": "b7db0e63-9cb6-4ec1-affa-e9a9c72615ff",
   "metadata": {},
   "source": [
    "### HYPOTHESIS TESTING"
   ]
  },
  {
   "cell_type": "code",
   "execution_count": 82,
   "id": "a8722e24-ec1a-4fc1-80c8-cc9224368cd8",
   "metadata": {},
   "outputs": [],
   "source": [
    "import pandas as pd\n",
    "import scipy.stats as stats\n",
    "import numpy as np"
   ]
  },
  {
   "cell_type": "markdown",
   "id": "9ebbce31-ef65-4161-8bc7-b05207fa3938",
   "metadata": {},
   "source": [
    "H0-->cost model is accurate, as their observed weekly operating costs are higher.\n",
    "\n",
    "Ha-->cost model may no longer be accurate, as their observed weekly operating costs are higher."
   ]
  },
  {
   "cell_type": "code",
   "execution_count": 68,
   "id": "c6946285-46c2-4365-a926-0a3135fcbcb6",
   "metadata": {},
   "outputs": [
    {
     "name": "stdout",
     "output_type": "stream",
     "text": [
      "25\n",
      "3050\n",
      "125\n",
      "4000\n"
     ]
    }
   ],
   "source": [
    "## sample_size(n)\n",
    "n=25\n",
    "## sample_mean(x_bar)\n",
    "x_bar=3050\n",
    "## population_standard_deviation(std)\n",
    "std=25*5\n",
    "## population_mean(mu)\n",
    "mu=1000+5*600\n",
    "## alpha=0.05, CI=1-.05=.95\n",
    "print(n)\n",
    "print(x_bar)\n",
    "print(std)\n",
    "print(mu)"
   ]
  },
  {
   "cell_type": "code",
   "execution_count": 70,
   "id": "e3d2179c-022f-48f1-ad70-2e554c735ec6",
   "metadata": {},
   "outputs": [
    {
     "data": {
      "text/plain": [
       "-38.0"
      ]
     },
     "execution_count": 70,
     "metadata": {},
     "output_type": "execute_result"
    }
   ],
   "source": [
    "z_stat=(x_bar-mu)/(std/np.sqrt(n))\n",
    "z_stat"
   ]
  },
  {
   "cell_type": "code",
   "execution_count": 76,
   "id": "f015a938-3906-4fc6-9715-592ba8d6f4d1",
   "metadata": {},
   "outputs": [
    {
     "data": {
      "text/plain": [
       "1.959963984540054"
      ]
     },
     "execution_count": 76,
     "metadata": {},
     "output_type": "execute_result"
    }
   ],
   "source": [
    "stats.norm.ppf(1-(0.05/2))"
   ]
  },
  {
   "cell_type": "markdown",
   "id": "ee5cbae1-71d4-492e-a057-b2d39b6b070b",
   "metadata": {},
   "source": [
    "## Decision\n",
    "The calculated test statistic (z-stat) is compared against the critical value obtained from the standard normal distribution at a significance level (alpha) of 0.05. The test statistic falls outside the acceptance region (-1.95 to +1.95). Therefore, the null hypothesis (𝐻0) is rejected."
   ]
  },
  {
   "cell_type": "markdown",
   "id": "45fb602e-271f-4e7c-aff7-2d1d56ca6b4d",
   "metadata": {},
   "source": [
    "## Conclusion\n",
    "Since the null hypothesis is rejected, there is strong statistical evidence to support the restaurant owners' claim that the weekly operating costs are significantly higher than the theoretical cost model suggests."
   ]
  },
  {
   "cell_type": "code",
   "execution_count": null,
   "id": "161eb020-e3bd-4a20-ad6c-0e598452aee2",
   "metadata": {},
   "outputs": [],
   "source": []
  },
  {
   "cell_type": "code",
   "execution_count": null,
   "id": "632ecb32-a0c6-48f9-a4c3-8a2b2d19d065",
   "metadata": {},
   "outputs": [],
   "source": []
  }
 ],
 "metadata": {
  "kernelspec": {
   "display_name": "Python 3 (ipykernel)",
   "language": "python",
   "name": "python3"
  },
  "language_info": {
   "codemirror_mode": {
    "name": "ipython",
    "version": 3
   },
   "file_extension": ".py",
   "mimetype": "text/x-python",
   "name": "python",
   "nbconvert_exporter": "python",
   "pygments_lexer": "ipython3",
   "version": "3.12.4"
  }
 },
 "nbformat": 4,
 "nbformat_minor": 5
}
