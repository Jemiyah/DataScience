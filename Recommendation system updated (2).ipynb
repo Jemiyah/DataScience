{
 "cells": [
  {
   "cell_type": "code",
   "execution_count": 31,
   "id": "9a8d290a-428d-4ead-9640-191b27247e44",
   "metadata": {},
   "outputs": [],
   "source": [
    "import pandas as pd\n",
    "from sklearn.metrics.pairwise import cosine_similarity\n",
    "from sklearn.feature_extraction.text import TfidfVectorizer\n",
    "from sklearn.model_selection import train_test_split\n",
    "from sklearn.metrics import precision_score, recall_score, f1_score"
   ]
  },
  {
   "cell_type": "code",
   "execution_count": 3,
   "id": "1588d257-9e50-4fa3-89b1-146d4d39b811",
   "metadata": {},
   "outputs": [],
   "source": [
    "anime_df = pd.read_csv('anime.csv')"
   ]
  },
  {
   "cell_type": "code",
   "execution_count": 5,
   "id": "d3b96448-1479-4174-8cd6-50ea3207d33f",
   "metadata": {},
   "outputs": [],
   "source": [
    " # Remove missing values\n",
    "anime_df = anime_df.dropna() \n",
    "anime_df.reset_index(drop=True, inplace=True)"
   ]
  },
  {
   "cell_type": "code",
   "execution_count": 21,
   "id": "c909eef1-715f-43bf-a909-7d0fcf3e7deb",
   "metadata": {},
   "outputs": [
    {
     "data": {
      "text/plain": [
       "<12017x46 sparse matrix of type '<class 'numpy.float64'>'\n",
       "\twith 39659 stored elements in Compressed Sparse Row format>"
      ]
     },
     "execution_count": 21,
     "metadata": {},
     "output_type": "execute_result"
    }
   ],
   "source": [
    "# Feature Extraction\n",
    "vectorizer = TfidfVectorizer(stop_words='english')\n",
    "genre_matrix = vectorizer.fit_transform(anime_df['genre'])\n"
   ]
  },
  {
   "cell_type": "code",
   "execution_count": 19,
   "id": "4d998a16-666a-4417-b73a-6ce512df360c",
   "metadata": {},
   "outputs": [
    {
     "data": {
      "text/plain": [
       "array([[1.        , 0.14715318, 0.        , ..., 0.        , 0.        ,\n",
       "        0.        ],\n",
       "       [0.14715318, 1.        , 0.17877808, ..., 0.        , 0.        ,\n",
       "        0.        ],\n",
       "       [0.        , 0.17877808, 1.        , ..., 0.        , 0.        ,\n",
       "        0.        ],\n",
       "       ...,\n",
       "       [0.        , 0.        , 0.        , ..., 1.        , 1.        ,\n",
       "        1.        ],\n",
       "       [0.        , 0.        , 0.        , ..., 1.        , 1.        ,\n",
       "        1.        ],\n",
       "       [0.        , 0.        , 0.        , ..., 1.        , 1.        ,\n",
       "        1.        ]])"
      ]
     },
     "execution_count": 19,
     "metadata": {},
     "output_type": "execute_result"
    }
   ],
   "source": [
    "## Cosine Similarity between anime based on genre\n",
    "cosine_sim = cosine_similarity(genre_matrix, genre_matrix)\n",
    "cosine_sim"
   ]
  },
  {
   "cell_type": "code",
   "execution_count": 23,
   "id": "09ce6305-7626-44e1-9790-867f1f9541e6",
   "metadata": {},
   "outputs": [],
   "source": [
    "# Function to get anime recommendations\n",
    "def recommend_anime(title, cosine_sim=cosine_sim, df=anime_df, num_recommendations=5):\n",
    "    if title not in df['name'].values:\n",
    "        return \"Anime not found in the dataset.\"\n",
    "    # index of the anime\n",
    "    idx = df[df['name'] == title].index[0]\n",
    "    # similarity scores\n",
    "    sim_scores = list(enumerate(cosine_sim[idx]))\n",
    "    # Sort anime by similarity scores\n",
    "    sim_scores = sorted(sim_scores, key=lambda x: x[1], reverse=True)[1:num_recommendations+1]\n",
    "    # Get indices of recommended anime\n",
    "    anime_indices = [i[0] for i in sim_scores]\n",
    "    return df.iloc[anime_indices][['name', 'genre']]"
   ]
  },
  {
   "cell_type": "code",
   "execution_count": 25,
   "id": "1e56b020-cfde-46fe-ad4a-043adc931dc6",
   "metadata": {},
   "outputs": [
    {
     "name": "stdout",
     "output_type": "stream",
     "text": [
      "                                                   name  \\\n",
      "615                                  Naruto: Shippuuden   \n",
      "841                                              Naruto   \n",
      "1103  Boruto: Naruto the Movie - Naruto ga Hokage ni...   \n",
      "1343                                        Naruto x UT   \n",
      "1472        Naruto: Shippuuden Movie 4 - The Lost Tower   \n",
      "\n",
      "                                                  genre  \n",
      "615   Action, Comedy, Martial Arts, Shounen, Super P...  \n",
      "841   Action, Comedy, Martial Arts, Shounen, Super P...  \n",
      "1103  Action, Comedy, Martial Arts, Shounen, Super P...  \n",
      "1343  Action, Comedy, Martial Arts, Shounen, Super P...  \n",
      "1472  Action, Comedy, Martial Arts, Shounen, Super P...  \n"
     ]
    }
   ],
   "source": [
    "recommendations = recommend_anime(\"Naruto\")\n",
    "print(recommendations)"
   ]
  },
  {
   "cell_type": "code",
   "execution_count": 33,
   "id": "9bfa96ae-b6da-4603-b044-3675ca7bdde2",
   "metadata": {},
   "outputs": [],
   "source": [
    "# Splitting dataset into training and testing sets\n",
    "train_df, test_df = train_test_split(anime_df, test_size=0.2, random_state=42)"
   ]
  },
  {
   "cell_type": "code",
   "execution_count": 35,
   "id": "e3241852-6b0d-4057-9369-89376b95f81c",
   "metadata": {},
   "outputs": [],
   "source": [
    "# Evaluation Function\n",
    "def evaluate_recommendation_system():\n",
    "    y_true = []\n",
    "    y_pred = []\n",
    "    \n",
    "    for title in test_df['name'].sample(50):  # Sample 50 anime for evaluation\n",
    "        recommendations = recommend_anime(title, df=train_df)\n",
    "        \n",
    "        if isinstance(recommendations, str):  # If anime not found\n",
    "            continue\n",
    "        \n",
    "        recommended_anime = recommendations['name'].tolist()\n",
    "        actual_anime = test_df[test_df['name'] == title]['name'].tolist()\n",
    "        \n",
    "        y_true.append(1 if title in actual_anime else 0)\n",
    "        y_pred.append(1 if title in recommended_anime else 0)\n",
    "    \n",
    "    precision = precision_score(y_true, y_pred, zero_division=1)\n",
    "    recall = recall_score(y_true, y_pred, zero_division=1)\n",
    "    f1 = f1_score(y_true, y_pred, zero_division=1)\n",
    "    \n",
    "    return {\"Precision\": precision, \"Recall\": recall, \"F1-Score\": f1}\n"
   ]
  },
  {
   "cell_type": "code",
   "execution_count": 37,
   "id": "27a1f700-3597-4411-8bb2-b8e111669adc",
   "metadata": {},
   "outputs": [
    {
     "name": "stdout",
     "output_type": "stream",
     "text": [
      "                                                   name  \\\n",
      "615                                  Naruto: Shippuuden   \n",
      "841                                              Naruto   \n",
      "1103  Boruto: Naruto the Movie - Naruto ga Hokage ni...   \n",
      "1343                                        Naruto x UT   \n",
      "1472        Naruto: Shippuuden Movie 4 - The Lost Tower   \n",
      "\n",
      "                                                  genre  \n",
      "615   Action, Comedy, Martial Arts, Shounen, Super P...  \n",
      "841   Action, Comedy, Martial Arts, Shounen, Super P...  \n",
      "1103  Action, Comedy, Martial Arts, Shounen, Super P...  \n",
      "1343  Action, Comedy, Martial Arts, Shounen, Super P...  \n",
      "1472  Action, Comedy, Martial Arts, Shounen, Super P...  \n"
     ]
    }
   ],
   "source": [
    "recommendations = recommend_anime(\"Naruto\")\n",
    "print(recommendations)"
   ]
  },
  {
   "cell_type": "code",
   "execution_count": 39,
   "id": "5f5fc98a-e897-49b4-b107-b3f611c9d53a",
   "metadata": {},
   "outputs": [
    {
     "name": "stdout",
     "output_type": "stream",
     "text": [
      "{'Precision': 1.0, 'Recall': 1.0, 'F1-Score': 1.0}\n"
     ]
    }
   ],
   "source": [
    "# Evaluate the system\n",
    "evaluation_results = evaluate_recommendation_system()\n",
    "print(evaluation_results)"
   ]
  },
  {
   "cell_type": "markdown",
   "id": "a3c38bb7-e651-43c8-93e2-4540b4abdfb2",
   "metadata": {},
   "source": [
    "## Interview Questions"
   ]
  },
  {
   "cell_type": "markdown",
   "id": "d707e824-45b6-43a1-87e3-649f4c7aefdf",
   "metadata": {},
   "source": [
    "What is Collaborative Filtering & How Does It Work?\n",
    "\n",
    "Collaborative Filtering is a recommendation system technique that suggests items to users based on past interactions and preferences of similar users. It is widely used in platforms like Netflix, Amazon, and Spotify to recommend movies, products, or songs.\n",
    "\n",
    "How It Works:\n",
    "\n",
    "Collect user-item interaction data (e.g., ratings, purchases, or views).\n",
    "\n",
    "Find similarities between users or items based on past behavior.\n",
    "\n",
    "Predict user preferences by leveraging these similarities.\n",
    "\n",
    "Recommend items that similar users liked or similar items that a user has interacted with.\n"
   ]
  },
  {
   "cell_type": "code",
   "execution_count": null,
   "id": "f9a2bfe4-64f3-4e6a-84d1-1ddcb1c6a8ee",
   "metadata": {},
   "outputs": [],
   "source": []
  }
 ],
 "metadata": {
  "kernelspec": {
   "display_name": "Python 3 (ipykernel)",
   "language": "python",
   "name": "python3"
  },
  "language_info": {
   "codemirror_mode": {
    "name": "ipython",
    "version": 3
   },
   "file_extension": ".py",
   "mimetype": "text/x-python",
   "name": "python",
   "nbconvert_exporter": "python",
   "pygments_lexer": "ipython3",
   "version": "3.12.4"
  }
 },
 "nbformat": 4,
 "nbformat_minor": 5
}
