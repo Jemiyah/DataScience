{
 "cells": [
  {
   "cell_type": "markdown",
   "id": "1d053c63-8bd5-4739-a9e5-e04c0cf263d1",
   "metadata": {},
   "source": [
    "### ASSIGNMENT- Basic Stat-2\n",
    "##### Estimation And Confidence Intervals"
   ]
  },
  {
   "cell_type": "code",
   "execution_count": 185,
   "id": "1a0c6473-ccc3-405c-b917-29825102b00b",
   "metadata": {},
   "outputs": [],
   "source": [
    "import numpy as np\n",
    "import scipy.stats as stats"
   ]
  },
  {
   "cell_type": "code",
   "execution_count": 67,
   "id": "c06bbc06-ca90-44ac-a499-7ba2fd359b25",
   "metadata": {},
   "outputs": [],
   "source": [
    "sample=[1.13, 1.55, 1.43, 0.92, 1.25, 1.36, 1.32, 0.85, 1.07, 1.48, 1.20, 1.33, 1.18, 1.22, 1.29]\n",
    "n=15"
   ]
  },
  {
   "cell_type": "markdown",
   "id": "7836e66e-e962-4326-94bb-b1fbbf8efef7",
   "metadata": {},
   "source": [
    "a. Build 99% Confidence Interval Using Sample Standard Deviation.\n",
    "Assuming the sample is representative of the population, construct a 99% confidence interval for the mean number of characters printed before the print-head fails using the sample standard deviation. Explain the steps you take and the rationale behind using the t-distribution for this task.\n"
   ]
  },
  {
   "cell_type": "code",
   "execution_count": 118,
   "id": "9864f5d3-8e21-4edf-88cd-f458fb4aa304",
   "metadata": {},
   "outputs": [],
   "source": [
    "x_bar=np.mean(sample)"
   ]
  },
  {
   "cell_type": "code",
   "execution_count": 120,
   "id": "1c92eb32-b95f-4858-bce1-0c94c8014761",
   "metadata": {},
   "outputs": [
    {
     "data": {
      "text/plain": [
       "1.2386666666666666"
      ]
     },
     "execution_count": 120,
     "metadata": {},
     "output_type": "execute_result"
    }
   ],
   "source": [
    "x_bar"
   ]
  },
  {
   "cell_type": "code",
   "execution_count": 122,
   "id": "5082e2ff-cda0-422d-97f9-5a4f331cdaa0",
   "metadata": {},
   "outputs": [
    {
     "data": {
      "text/plain": [
       "0.19316412956959936"
      ]
     },
     "execution_count": 122,
     "metadata": {},
     "output_type": "execute_result"
    }
   ],
   "source": [
    "std=np.std(sample,ddof=1)\n",
    "std"
   ]
  },
  {
   "cell_type": "code",
   "execution_count": 59,
   "id": "d31d5246-82af-4bcd-b545-7c236b099e8d",
   "metadata": {},
   "outputs": [],
   "source": [
    "## Sample mean(x_bar)=1.23\n",
    "## Sample standard deviation(std)=.1931\n",
    "## sample size(n)=15\n",
    "## degree of freedom=15-1\n",
    "## confidence interval=99%=.99\n",
    "## alpha=1-.99=.01"
   ]
  },
  {
   "cell_type": "code",
   "execution_count": 124,
   "id": "6cfaa432-35e2-46d9-a373-5ca249b6a1f8",
   "metadata": {},
   "outputs": [],
   "source": [
    "## t_critical=stats.t.ppf(1-alpha/2,degree_of_freedom)\n",
    "t_critical=stats.t.ppf(1-(.01/2),14)"
   ]
  },
  {
   "cell_type": "code",
   "execution_count": 126,
   "id": "685e5145-b631-4c33-add7-4764ffe1bf58",
   "metadata": {},
   "outputs": [
    {
     "data": {
      "text/plain": [
       "2.976842734370834"
      ]
     },
     "execution_count": 126,
     "metadata": {},
     "output_type": "execute_result"
    }
   ],
   "source": [
    "t_critical"
   ]
  },
  {
   "cell_type": "code",
   "execution_count": 154,
   "id": "0b12b550-a17f-4d9a-afae-744ad76a1411",
   "metadata": {},
   "outputs": [
    {
     "data": {
      "text/plain": [
       "1.0901973384384906"
      ]
     },
     "execution_count": 154,
     "metadata": {},
     "output_type": "execute_result"
    }
   ],
   "source": [
    "## pop_lower_mean=sample_mean-t_critical*(sample_standard_deviation/sqrt_of_sample_size)\n",
    "pop_lower_mean=x_bar-t_critical*(std/np.sqrt(n))\n",
    "pop_lower_mean"
   ]
  },
  {
   "cell_type": "code",
   "execution_count": 156,
   "id": "8d3bd799-bbb0-4426-975c-859ee3d0b811",
   "metadata": {},
   "outputs": [
    {
     "data": {
      "text/plain": [
       "1.3871359948948425"
      ]
     },
     "execution_count": 156,
     "metadata": {},
     "output_type": "execute_result"
    }
   ],
   "source": [
    "## pop_lower_mean=sample_mean+t_critical*(sample_standard_deviation/sqrt_of_sample_size)\n",
    "pop_upper_mean=x_bar+t_critical*(std/np.sqrt(n))\n",
    "pop_upper_mean"
   ]
  },
  {
   "cell_type": "markdown",
   "id": "94d92b04-e15d-4343-bf5a-72b9ba1b98cd",
   "metadata": {},
   "source": [
    "###### Rationale for Using the t-Distribution\n",
    "The t-distribution is applied because:\n",
    "\n",
    "Small Sample Size (n = 15): With a sample size smaller than 30, the Central Limit Theorem doesn't assure that the sample mean's distribution will be normal. Therefore, the t-distribution is a more suitable choice for small sample sizes.\n",
    "\n",
    "Unknown Population Standard Deviation: Since the population standard deviation is unknown and estimated from the sample data, the t-distribution is needed to account for the additional uncertainty in this estimation.\n",
    "\n",
    "Hence, the t-distribution is the appropriate choice for constructing the confidence interval in this case.\n",
    "\n",
    "##### So, the 99% confidence interval for the mean number of characters printed before the print-head fails is (1.0901, 1.3871).\n",
    "##### population_lower_mean=1.0901\n",
    "##### population_upper_mean=1.3871"
   ]
  },
  {
   "cell_type": "markdown",
   "id": "c231065d-c40a-4c67-8949-4400979ada93",
   "metadata": {},
   "source": [
    "##### b. Build 99% Confidence Interval Using Known Population Standard Deviation.If it were known that the population standard deviation is 0.2 million characters, construct a 99% confidence interval for the mean number of characters printed before failure.\n"
   ]
  },
  {
   "cell_type": "code",
   "execution_count": 162,
   "id": "ef7c1d90-b481-41aa-b904-b78aba1cba6d",
   "metadata": {},
   "outputs": [],
   "source": [
    "STD=.2"
   ]
  },
  {
   "cell_type": "code",
   "execution_count": 168,
   "id": "e2a8e0bc-89c3-44f0-bc9c-40b3a70d17e6",
   "metadata": {},
   "outputs": [],
   "source": [
    "## Sample mean(x_bar)=1.23\n",
    "## Population standard deviation(STD)=.2\n",
    "## sample size(n)=15\n",
    "## degree of freedom=15-1\n",
    "## confidence interval=99%=.99\n",
    "## alpha=1-.99=.01\n"
   ]
  },
  {
   "cell_type": "code",
   "execution_count": 140,
   "id": "12856373-bc65-4afb-b8a9-d27780e93074",
   "metadata": {},
   "outputs": [],
   "source": [
    "z_critical=stats.norm.ppf(1-(.01/2))"
   ]
  },
  {
   "cell_type": "code",
   "execution_count": 142,
   "id": "03fb191d-d1ad-4c6a-938a-a9fcfd48ee60",
   "metadata": {},
   "outputs": [
    {
     "data": {
      "text/plain": [
       "2.5758293035489004"
      ]
     },
     "execution_count": 142,
     "metadata": {},
     "output_type": "execute_result"
    }
   ],
   "source": [
    "z_critical"
   ]
  },
  {
   "cell_type": "code",
   "execution_count": 175,
   "id": "e6ba8ea4-0521-474b-aecc-2d484b75cc95",
   "metadata": {},
   "outputs": [
    {
     "data": {
      "text/plain": [
       "1.1056514133957607"
      ]
     },
     "execution_count": 175,
     "metadata": {},
     "output_type": "execute_result"
    }
   ],
   "source": [
    "## pop_lower_mean=sample_mean-z_critical*(population_standard_deviation/sqrt_of_sample_size)\n",
    "pop_lower_mean=x_bar-z_critical*(STD/np.sqrt(n))\n",
    "pop_lower_mean"
   ]
  },
  {
   "cell_type": "code",
   "execution_count": 177,
   "id": "4f41a3c4-c440-46f5-92dc-82c121830c44",
   "metadata": {},
   "outputs": [
    {
     "data": {
      "text/plain": [
       "1.3716819199375725"
      ]
     },
     "execution_count": 177,
     "metadata": {},
     "output_type": "execute_result"
    }
   ],
   "source": [
    "## pop_lower_mean=sample_mean+z_critical*(population_standard_deviation/sqrt_of_sample_size)\n",
    "pop_upper_mean=x_bar+z_critical*(STD/np.sqrt(n))\n",
    "pop_upper_mean"
   ]
  },
  {
   "cell_type": "markdown",
   "id": "d0aab356-9d58-4b97-8bbd-2246abaea660",
   "metadata": {},
   "source": [
    "#### Conclusion\n",
    "population_lower_mean=1.1056\n",
    "\n",
    "population_upper_mean=1.3716"
   ]
  },
  {
   "cell_type": "code",
   "execution_count": null,
   "id": "c814d849-eeab-426b-a9e1-837c3541c669",
   "metadata": {},
   "outputs": [],
   "source": []
  }
 ],
 "metadata": {
  "kernelspec": {
   "display_name": "Python 3 (ipykernel)",
   "language": "python",
   "name": "python3"
  },
  "language_info": {
   "codemirror_mode": {
    "name": "ipython",
    "version": 3
   },
   "file_extension": ".py",
   "mimetype": "text/x-python",
   "name": "python",
   "nbconvert_exporter": "python",
   "pygments_lexer": "ipython3",
   "version": "3.12.4"
  }
 },
 "nbformat": 4,
 "nbformat_minor": 5
}
