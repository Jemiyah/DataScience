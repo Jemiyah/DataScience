{
 "cells": [
  {
   "cell_type": "code",
   "execution_count": 83,
   "id": "7b0872b2-d209-4f1c-aeb8-56389afe9d75",
   "metadata": {},
   "outputs": [],
   "source": [
    "import pandas as pd\n",
    "import scipy.stats as stat"
   ]
  },
  {
   "cell_type": "markdown",
   "id": "893fac6c-fdd5-4977-8e86-ab59a0c26014",
   "metadata": {},
   "source": [
    "###### H0-->There is not a significant association between the type of smart home device purchased (Smart Thermostats vs. Smart Lights) and the customer satisfaction level.\n",
    "###### Ha-->There is a significant association between the type of smart home device purchased (Smart Thermostats vs. Smart Lights) and the customer satisfaction level.\n",
    "###### aplha-->.5, CI--.95"
   ]
  },
  {
   "cell_type": "code",
   "execution_count": 86,
   "id": "5e7499ab-1591-4bbd-aa10-37a60872ef6e",
   "metadata": {},
   "outputs": [],
   "source": [
    "data={\"Satisfaction\":[\"Very Satisfied\",\"Satisfied\",\"Neutral\",\"Unsatisfied\",\"Very Unsatisfied\"],\"Smart Thermostat\":[50,80,60,30,20],\"Smart Light\":[70,100,90,50,50]}"
   ]
  },
  {
   "cell_type": "code",
   "execution_count": 88,
   "id": "f6a0b582-e28e-4730-ba68-11facd67ee67",
   "metadata": {
    "scrolled": true
   },
   "outputs": [
    {
     "data": {
      "text/plain": [
       "{'Satisfaction': ['Very Satisfied',\n",
       "  'Satisfied',\n",
       "  'Neutral',\n",
       "  'Unsatisfied',\n",
       "  'Very Unsatisfied'],\n",
       " 'Smart Thermostat': [50, 80, 60, 30, 20],\n",
       " 'Smart Light': [70, 100, 90, 50, 50]}"
      ]
     },
     "execution_count": 88,
     "metadata": {},
     "output_type": "execute_result"
    }
   ],
   "source": [
    "data"
   ]
  },
  {
   "cell_type": "code",
   "execution_count": 104,
   "id": "8a0f72c9-bfc2-418a-93ec-4d072601ae23",
   "metadata": {},
   "outputs": [
    {
     "data": {
      "text/html": [
       "<div>\n",
       "<style scoped>\n",
       "    .dataframe tbody tr th:only-of-type {\n",
       "        vertical-align: middle;\n",
       "    }\n",
       "\n",
       "    .dataframe tbody tr th {\n",
       "        vertical-align: top;\n",
       "    }\n",
       "\n",
       "    .dataframe thead th {\n",
       "        text-align: right;\n",
       "    }\n",
       "</style>\n",
       "<table border=\"1\" class=\"dataframe\">\n",
       "  <thead>\n",
       "    <tr style=\"text-align: right;\">\n",
       "      <th></th>\n",
       "      <th>Satisfaction</th>\n",
       "      <th>Smart Thermostat</th>\n",
       "      <th>Smart Light</th>\n",
       "    </tr>\n",
       "  </thead>\n",
       "  <tbody>\n",
       "    <tr>\n",
       "      <th>0</th>\n",
       "      <td>Very Satisfied</td>\n",
       "      <td>50</td>\n",
       "      <td>70</td>\n",
       "    </tr>\n",
       "    <tr>\n",
       "      <th>1</th>\n",
       "      <td>Satisfied</td>\n",
       "      <td>80</td>\n",
       "      <td>100</td>\n",
       "    </tr>\n",
       "    <tr>\n",
       "      <th>2</th>\n",
       "      <td>Neutral</td>\n",
       "      <td>60</td>\n",
       "      <td>90</td>\n",
       "    </tr>\n",
       "    <tr>\n",
       "      <th>3</th>\n",
       "      <td>Unsatisfied</td>\n",
       "      <td>30</td>\n",
       "      <td>50</td>\n",
       "    </tr>\n",
       "    <tr>\n",
       "      <th>4</th>\n",
       "      <td>Very Unsatisfied</td>\n",
       "      <td>20</td>\n",
       "      <td>50</td>\n",
       "    </tr>\n",
       "  </tbody>\n",
       "</table>\n",
       "</div>"
      ],
      "text/plain": [
       "       Satisfaction  Smart Thermostat  Smart Light\n",
       "0    Very Satisfied                50           70\n",
       "1         Satisfied                80          100\n",
       "2           Neutral                60           90\n",
       "3       Unsatisfied                30           50\n",
       "4  Very Unsatisfied                20           50"
      ]
     },
     "execution_count": 104,
     "metadata": {},
     "output_type": "execute_result"
    }
   ],
   "source": [
    "df=pd.DataFrame(data)\n",
    "df"
   ]
  },
  {
   "cell_type": "code",
   "execution_count": 52,
   "id": "e735e150-ebe9-4364-9ac6-f5f707e18d8d",
   "metadata": {},
   "outputs": [],
   "source": [
    "new = pd.DataFrame({\"Smart Thermostat\": [50, 80, 60, 30, 20],\"Smart Light\": [70, 100, 90, 50, 50]}, index=[\"Very Satisfied\", \"Satisfied\", \"Neutral\", \"Unsatisfied\", \"Very Unsatisfied\"])"
   ]
  },
  {
   "cell_type": "code",
   "execution_count": 54,
   "id": "1ca9cb4b-ea97-4f30-afa1-d3a6977c24ff",
   "metadata": {},
   "outputs": [
    {
     "data": {
      "text/html": [
       "<div>\n",
       "<style scoped>\n",
       "    .dataframe tbody tr th:only-of-type {\n",
       "        vertical-align: middle;\n",
       "    }\n",
       "\n",
       "    .dataframe tbody tr th {\n",
       "        vertical-align: top;\n",
       "    }\n",
       "\n",
       "    .dataframe thead th {\n",
       "        text-align: right;\n",
       "    }\n",
       "</style>\n",
       "<table border=\"1\" class=\"dataframe\">\n",
       "  <thead>\n",
       "    <tr style=\"text-align: right;\">\n",
       "      <th></th>\n",
       "      <th>Smart Thermostat</th>\n",
       "      <th>Smart Light</th>\n",
       "    </tr>\n",
       "  </thead>\n",
       "  <tbody>\n",
       "    <tr>\n",
       "      <th>Very Satisfied</th>\n",
       "      <td>50</td>\n",
       "      <td>70</td>\n",
       "    </tr>\n",
       "    <tr>\n",
       "      <th>Satisfied</th>\n",
       "      <td>80</td>\n",
       "      <td>100</td>\n",
       "    </tr>\n",
       "    <tr>\n",
       "      <th>Neutral</th>\n",
       "      <td>60</td>\n",
       "      <td>90</td>\n",
       "    </tr>\n",
       "    <tr>\n",
       "      <th>Unsatisfied</th>\n",
       "      <td>30</td>\n",
       "      <td>50</td>\n",
       "    </tr>\n",
       "    <tr>\n",
       "      <th>Very Unsatisfied</th>\n",
       "      <td>20</td>\n",
       "      <td>50</td>\n",
       "    </tr>\n",
       "  </tbody>\n",
       "</table>\n",
       "</div>"
      ],
      "text/plain": [
       "                  Smart Thermostat  Smart Light\n",
       "Very Satisfied                  50           70\n",
       "Satisfied                       80          100\n",
       "Neutral                         60           90\n",
       "Unsatisfied                     30           50\n",
       "Very Unsatisfied                20           50"
      ]
     },
     "execution_count": 54,
     "metadata": {},
     "output_type": "execute_result"
    }
   ],
   "source": [
    "new"
   ]
  },
  {
   "cell_type": "code",
   "execution_count": 56,
   "id": "5d26e757-95ec-441b-adaf-eea30bcd0e68",
   "metadata": {},
   "outputs": [
    {
     "data": {
      "text/plain": [
       "Chi2ContingencyResult(statistic=5.638227513227513, pvalue=0.22784371130697179, dof=4, expected_freq=array([[ 48.,  72.],\n",
       "       [ 72., 108.],\n",
       "       [ 60.,  90.],\n",
       "       [ 32.,  48.],\n",
       "       [ 28.,  42.]]))"
      ]
     },
     "execution_count": 56,
     "metadata": {},
     "output_type": "execute_result"
    }
   ],
   "source": [
    "##Compute the Chi-Square Statistic:\n",
    "stat.chi2_contingency(new)"
   ]
  },
  {
   "cell_type": "code",
   "execution_count": 58,
   "id": "c284f051-1b0c-4693-857a-9945d77b6361",
   "metadata": {},
   "outputs": [
    {
     "data": {
      "text/plain": [
       "9.487729036781154"
      ]
     },
     "execution_count": 58,
     "metadata": {},
     "output_type": "execute_result"
    }
   ],
   "source": [
    "## Determine the Critical Value:\n",
    "stat.chi2.ppf(.95,4)"
   ]
  },
  {
   "cell_type": "code",
   "execution_count": 60,
   "id": "4b45adec-a895-4f35-843d-b994cdab7a70",
   "metadata": {},
   "outputs": [],
   "source": [
    "## Chi_stat=5.63 ,Chi_critical=9.48\n",
    "## Chi_stat<Chi_critical \n",
    "## Hence Fail to reject H0"
   ]
  },
  {
   "cell_type": "markdown",
   "id": "12532543-6f43-4394-93c3-ecc71f1b5eeb",
   "metadata": {},
   "source": [
    "### Decision\n",
    "\n",
    "The computed Chi-Square statistic is 5.63, and the critical value at a 5% significance level with 4 degrees of freedom is 9.48. Since (5.63) < (9.48), we fail to reject the null hypothesis (𝐻0)."
   ]
  },
  {
   "cell_type": "markdown",
   "id": "8af07046-be8d-487f-8b94-a3857defee45",
   "metadata": {},
   "source": [
    "### Conclusion\n",
    "There is no significant association between the type of smart device (Smart Thermostat vs. Smart Light) and customer satisfaction. The observed differences in satisfaction levels are likely due to chance rather than a real relationship between the variables."
   ]
  },
  {
   "cell_type": "code",
   "execution_count": null,
   "id": "5871e790-551b-49ae-93e4-6cc0cec0a2c7",
   "metadata": {},
   "outputs": [],
   "source": []
  }
 ],
 "metadata": {
  "kernelspec": {
   "display_name": "Python 3 (ipykernel)",
   "language": "python",
   "name": "python3"
  },
  "language_info": {
   "codemirror_mode": {
    "name": "ipython",
    "version": 3
   },
   "file_extension": ".py",
   "mimetype": "text/x-python",
   "name": "python",
   "nbconvert_exporter": "python",
   "pygments_lexer": "ipython3",
   "version": "3.12.4"
  }
 },
 "nbformat": 4,
 "nbformat_minor": 5
}
