{
 "cells": [
  {
   "cell_type": "markdown",
   "id": "ccd51d5f-1893-486b-ae27-4ae995ac275b",
   "metadata": {},
   "source": [
    "## Prime Number"
   ]
  },
  {
   "cell_type": "code",
   "execution_count": 110,
   "id": "3630bf05-76a0-4cb7-958d-0ebf2beb2916",
   "metadata": {},
   "outputs": [],
   "source": [
    "def check_prime(num,i):\n",
    "    if(i==num):\n",
    "        return 1\n",
    "    if(num%i==0):\n",
    "        return 0\n",
    "    return check_prime(num,i+1) \n"
   ]
  },
  {
   "cell_type": "code",
   "execution_count": 112,
   "id": "9528012c-54ed-4f79-844b-97202da16336",
   "metadata": {},
   "outputs": [
    {
     "name": "stdin",
     "output_type": "stream",
     "text": [
      " 4\n"
     ]
    },
    {
     "name": "stdout",
     "output_type": "stream",
     "text": [
      "Given number is= 4\n",
      "Given number is not a prime\n"
     ]
    }
   ],
   "source": [
    "num=int(input())\n",
    "print(\"Given number is=\",num)\n",
    "i=2\n",
    "res=check_prime(num,i)\n",
    "if(res==1):\n",
    "    print(\"Given number is prime\")\n",
    "else:\n",
    "    print(\"Given number is not a prime\")  "
   ]
  },
  {
   "cell_type": "code",
   "execution_count": 114,
   "id": "575d71b3-a360-4a36-9272-be7af2df3049",
   "metadata": {},
   "outputs": [
    {
     "name": "stdin",
     "output_type": "stream",
     "text": [
      " 7\n"
     ]
    },
    {
     "name": "stdout",
     "output_type": "stream",
     "text": [
      "Given number is= 7\n",
      "Given number is prime\n"
     ]
    }
   ],
   "source": [
    "num=int(input())\n",
    "print(\"Given number is=\",num)\n",
    "i=2\n",
    "res=check_prime(num,i)\n",
    "if(res==1):\n",
    "    print(\"Given number is prime\")\n",
    "else:\n",
    "    print(\"Given number is not a prime\")  "
   ]
  },
  {
   "cell_type": "markdown",
   "id": "ca69dca4-b7bf-4bda-8408-1d9c7f04aa36",
   "metadata": {},
   "source": [
    "## Product of Random Numbers"
   ]
  },
  {
   "cell_type": "code",
   "execution_count": 98,
   "id": "99630a92-47d1-4835-905b-540f2f3e0226",
   "metadata": {},
   "outputs": [
    {
     "name": "stdout",
     "output_type": "stream",
     "text": [
      "Random number1= 15\n",
      "Random number2= 16\n",
      "write the product:\n"
     ]
    },
    {
     "name": "stdin",
     "output_type": "stream",
     "text": [
      " 210\n"
     ]
    },
    {
     "name": "stdout",
     "output_type": "stream",
     "text": [
      "Your calculated product is not correct \n"
     ]
    }
   ],
   "source": [
    "import random\n",
    "ran1=random.randint(0,20)\n",
    "ran2=random.randint(0,20)\n",
    "print(\"Random number1=\",ran1)\n",
    "print(\"Random number2=\",ran2)\n",
    "print(\"write the product:\")\n",
    "product=int(input())\n",
    "if(product==ran1*ran2):\n",
    "    print(\"Your calculated product is correct \")\n",
    "else:\n",
    "    print(\"Your calculated product is not correct \")"
   ]
  },
  {
   "cell_type": "code",
   "execution_count": 96,
   "id": "23087b79-4d34-42d0-a97c-27ce2ff20572",
   "metadata": {},
   "outputs": [
    {
     "name": "stdout",
     "output_type": "stream",
     "text": [
      "Random number1= 6\n",
      "Random number2= 15\n",
      "write the product:\n"
     ]
    },
    {
     "name": "stdin",
     "output_type": "stream",
     "text": [
      " 90\n"
     ]
    },
    {
     "name": "stdout",
     "output_type": "stream",
     "text": [
      "Your calculated product is correct \n"
     ]
    }
   ],
   "source": [
    "import random\n",
    "ran1=random.randint(0,20)\n",
    "ran2=random.randint(0,20)\n",
    "print(\"Random number1=\",ran1)\n",
    "print(\"Random number2=\",ran2)\n",
    "print(\"write the product:\")\n",
    "product=int(input())\n",
    "if(product==ran1*ran2):\n",
    "    print(\"Your calculated product is correct \")\n",
    "else:\n",
    "    print(\"Your calculated product is not correct \")"
   ]
  },
  {
   "cell_type": "markdown",
   "id": "1cb7bf91-e8be-4534-ae4d-c0eb1e9efafe",
   "metadata": {},
   "source": [
    "## Squares of Even/Odd Numbers"
   ]
  },
  {
   "cell_type": "code",
   "execution_count": 15,
   "id": "cb7bf447-8d61-4e23-89ab-b35db96fefaf",
   "metadata": {},
   "outputs": [
    {
     "name": "stdout",
     "output_type": "stream",
     "text": [
      "Even number  10000\n",
      "Odd number  101\n",
      "Even number  10404\n",
      "Odd number  103\n",
      "Even number  10816\n",
      "Odd number  105\n",
      "Even number  11236\n",
      "Odd number  107\n",
      "Even number  11664\n",
      "Odd number  109\n",
      "Even number  12100\n",
      "Odd number  111\n",
      "Even number  12544\n",
      "Odd number  113\n",
      "Even number  12996\n",
      "Odd number  115\n",
      "Even number  13456\n",
      "Odd number  117\n",
      "Even number  13924\n",
      "Odd number  119\n",
      "Even number  14400\n",
      "Odd number  121\n",
      "Even number  14884\n",
      "Odd number  123\n",
      "Even number  15376\n",
      "Odd number  125\n",
      "Even number  15876\n",
      "Odd number  127\n",
      "Even number  16384\n",
      "Odd number  129\n",
      "Even number  16900\n",
      "Odd number  131\n",
      "Even number  17424\n",
      "Odd number  133\n",
      "Even number  17956\n",
      "Odd number  135\n",
      "Even number  18496\n",
      "Odd number  137\n",
      "Even number  19044\n",
      "Odd number  139\n",
      "Even number  19600\n",
      "Odd number  141\n",
      "Even number  20164\n",
      "Odd number  143\n",
      "Even number  20736\n",
      "Odd number  145\n",
      "Even number  21316\n",
      "Odd number  147\n",
      "Even number  21904\n",
      "Odd number  149\n",
      "Even number  22500\n",
      "Odd number  151\n",
      "Even number  23104\n",
      "Odd number  153\n",
      "Even number  23716\n",
      "Odd number  155\n",
      "Even number  24336\n",
      "Odd number  157\n",
      "Even number  24964\n",
      "Odd number  159\n",
      "Even number  25600\n",
      "Odd number  161\n",
      "Even number  26244\n",
      "Odd number  163\n",
      "Even number  26896\n",
      "Odd number  165\n",
      "Even number  27556\n",
      "Odd number  167\n",
      "Even number  28224\n",
      "Odd number  169\n",
      "Even number  28900\n",
      "Odd number  171\n",
      "Even number  29584\n",
      "Odd number  173\n",
      "Even number  30276\n",
      "Odd number  175\n",
      "Even number  30976\n",
      "Odd number  177\n",
      "Even number  31684\n",
      "Odd number  179\n",
      "Even number  32400\n",
      "Odd number  181\n",
      "Even number  33124\n",
      "Odd number  183\n",
      "Even number  33856\n",
      "Odd number  185\n",
      "Even number  34596\n",
      "Odd number  187\n",
      "Even number  35344\n",
      "Odd number  189\n",
      "Even number  36100\n",
      "Odd number  191\n",
      "Even number  36864\n",
      "Odd number  193\n",
      "Even number  37636\n",
      "Odd number  195\n",
      "Even number  38416\n",
      "Odd number  197\n",
      "Even number  39204\n",
      "Odd number  199\n",
      "Even number  40000\n"
     ]
    }
   ],
   "source": [
    "for i in range(100,201):\n",
    "    if(i%2==0):\n",
    "        print(\"Even number \",i*i)\n",
    "    else:\n",
    "        print(\"Odd number \",i)"
   ]
  },
  {
   "cell_type": "markdown",
   "id": "2c83ebcf-726f-4b30-8389-84e4077251f9",
   "metadata": {},
   "source": [
    "## Word counter"
   ]
  },
  {
   "cell_type": "code",
   "execution_count": 3,
   "id": "7723529b-c7e1-46da-a4d4-ab4bfcc4bace",
   "metadata": {},
   "outputs": [
    {
     "name": "stdin",
     "output_type": "stream",
     "text": [
      " This is a sample text. This text will be used to demonstrate the word counter.\n"
     ]
    },
    {
     "name": "stdout",
     "output_type": "stream",
     "text": [
      "['This', 'is', 'a', 'sample', 'text', 'This', 'text', 'will', 'be', 'used', 'to', 'demonstrate', 'the', 'word', 'counter']\n",
      "\n",
      " OUTPUT \n",
      "\n",
      "This = 2\n",
      "is = 1\n",
      "a = 1\n",
      "sample = 1\n",
      "text = 2\n",
      "will = 1\n",
      "be = 1\n",
      "used = 1\n",
      "to = 1\n",
      "demonstrate = 1\n",
      "the = 1\n",
      "word = 1\n",
      "counter = 1\n"
     ]
    }
   ],
   "source": [
    "import re\n",
    "user_input=input()\n",
    "input_word=re.findall(\"\\\\w+\",user_input)\n",
    "print(input_word)\n",
    "i=0\n",
    "print(\"\\n OUTPUT \\n\")\n",
    "while i<len(input_word):\n",
    "    count=1\n",
    "    j=i+1\n",
    "    while j<len(input_word):\n",
    "        if (input_word[i]==input_word[j]):\n",
    "            count=count+1\n",
    "            input_word.pop(j)\n",
    "        j=j+1\n",
    "    print(input_word[i],\"=\",count)\n",
    "    i=i+1\n"
   ]
  },
  {
   "cell_type": "markdown",
   "id": "81e8ae22-5ddc-4bee-bd1e-f9199aa1f75f",
   "metadata": {},
   "source": [
    "## Check for Palindrome"
   ]
  },
  {
   "cell_type": "code",
   "execution_count": 125,
   "id": "0ba8f2e7-244c-4ffa-8813-06e1fb42f928",
   "metadata": {},
   "outputs": [],
   "source": [
    "def check_palindrome(str):\n",
    "    str1=str[::-1]\n",
    "    print(\"Reverse string is\",str1)\n",
    "    if(str1== str):\n",
    "        return True\n",
    "    else:\n",
    "        return False\n",
    "    "
   ]
  },
  {
   "cell_type": "code",
   "execution_count": 127,
   "id": "de518d43-3c4d-47c9-b6d1-c38890be8c0d",
   "metadata": {},
   "outputs": [
    {
     "name": "stdin",
     "output_type": "stream",
     "text": [
      " mom\n"
     ]
    },
    {
     "name": "stdout",
     "output_type": "stream",
     "text": [
      "Given string is mom\n",
      "Reverse string is mom\n",
      "True\n"
     ]
    }
   ],
   "source": [
    "str=input()\n",
    "print(\"Given string is\",str)\n",
    "res=check_palindrome(str)\n",
    "print(res)"
   ]
  },
  {
   "cell_type": "code",
   "execution_count": 131,
   "id": "3bcc7e69-9011-4f41-b6bd-85fe1d487ccc",
   "metadata": {},
   "outputs": [
    {
     "name": "stdin",
     "output_type": "stream",
     "text": [
      " raja\n"
     ]
    },
    {
     "name": "stdout",
     "output_type": "stream",
     "text": [
      "Given string is raja\n",
      "Reverse string is ajar\n",
      "False\n"
     ]
    }
   ],
   "source": [
    "str=input()\n",
    "print(\"Given string is\",str)\n",
    "res=check_palindrome(str)\n",
    "print(res)"
   ]
  }
 ],
 "metadata": {
  "kernelspec": {
   "display_name": "Python 3 (ipykernel)",
   "language": "python",
   "name": "python3"
  },
  "language_info": {
   "codemirror_mode": {
    "name": "ipython",
    "version": 3
   },
   "file_extension": ".py",
   "mimetype": "text/x-python",
   "name": "python",
   "nbconvert_exporter": "python",
   "pygments_lexer": "ipython3",
   "version": "3.12.4"
  }
 },
 "nbformat": 4,
 "nbformat_minor": 5
}
